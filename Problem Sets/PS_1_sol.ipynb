{
 "cells": [
  {
   "cell_type": "code",
   "execution_count": 44,
   "id": "2d164ce3",
   "metadata": {},
   "outputs": [],
   "source": [
    "import numpy as np\n",
    "import numpy_financial as npf\n",
    "import pandas as pd"
   ]
  },
  {
   "cell_type": "markdown",
   "id": "683e39d1",
   "metadata": {},
   "source": [
    "# Assignment 1"
   ]
  },
  {
   "cell_type": "markdown",
   "id": "7f1aa286",
   "metadata": {},
   "source": [
    "## Problem 1 "
   ]
  },
  {
   "cell_type": "markdown",
   "id": "bc9da2f2",
   "metadata": {},
   "source": [
    "you can invest $\\$200,000$ in a certificate of deposit offered by your bank. The CD is for two years and the bank quotes you a rate of $4\\%$. How much will you have in two years if the $4\\%$ is :"
   ]
  },
  {
   "cell_type": "code",
   "execution_count": 28,
   "id": "5098ca7c",
   "metadata": {},
   "outputs": [],
   "source": [
    "c = 200000\n",
    "r = 0.04\n",
    "t = 2"
   ]
  },
  {
   "cell_type": "markdown",
   "id": "0e7c7022",
   "metadata": {},
   "source": [
    "#### (a) An EAR?"
   ]
  },
  {
   "cell_type": "markdown",
   "id": "feb5d96a",
   "metadata": {},
   "source": [
    "$$FV = P \\times (1+ EAR)^t = 200,000 \\times (1 + 4\\%)^2 = 216,320$$"
   ]
  },
  {
   "cell_type": "code",
   "execution_count": 29,
   "id": "7cc8eb03",
   "metadata": {},
   "outputs": [
    {
     "name": "stdout",
     "output_type": "stream",
     "text": [
      "EAR = $216320.00 \n"
     ]
    }
   ],
   "source": [
    "FV = c*(1+r)**t\n",
    "print(f'EAR = ${FV:.2f} ') "
   ]
  },
  {
   "cell_type": "markdown",
   "id": "d7a0d80e",
   "metadata": {},
   "source": [
    "#### (b) A quarterly APR?"
   ]
  },
  {
   "cell_type": "markdown",
   "id": "2c1d6417",
   "metadata": {},
   "source": [
    "$$FV = P \\times (1 + \\frac{APR}{4})^{4t} = 200,000 \\times (1 + \\frac{4\\%}{4})^{4\\times2} = 216,571.34$$"
   ]
  },
  {
   "cell_type": "code",
   "execution_count": 31,
   "id": "a9be02be",
   "metadata": {},
   "outputs": [
    {
     "name": "stdout",
     "output_type": "stream",
     "text": [
      "Quarterly APR = $216571.34 \n"
     ]
    }
   ],
   "source": [
    "FV = c*(1+r/4)**(t*4)\n",
    "print(f'Quarterly APR = ${FV:.2f} ') "
   ]
  },
  {
   "cell_type": "markdown",
   "id": "fdb7e542",
   "metadata": {},
   "source": [
    "#### (c) A monthly APR?"
   ]
  },
  {
   "cell_type": "markdown",
   "id": "f3cd57c7",
   "metadata": {},
   "source": [
    "$$FV = P \\times (1 + \\frac{APR}{12})^{12t} = 200,000 \\times (1 + \\frac{4\\%}{12})^{12\\times2} = 216,628.59$$"
   ]
  },
  {
   "cell_type": "code",
   "execution_count": 33,
   "id": "c12efdd0",
   "metadata": {},
   "outputs": [
    {
     "name": "stdout",
     "output_type": "stream",
     "text": [
      "Monthly APR = $216628.59 \n"
     ]
    }
   ],
   "source": [
    "FV = c*(1+r/12)**(t*12)\n",
    "print(f'Monthly APR = ${FV:.2f} ') "
   ]
  },
  {
   "cell_type": "markdown",
   "id": "be4bef31",
   "metadata": {},
   "source": [
    "## Problem 2"
   ]
  },
  {
   "cell_type": "markdown",
   "id": "4defa9ea",
   "metadata": {},
   "source": [
    "you are trying to determine your standard of living after retirement. You make the following assumptions. First, you will earn $\\$100,000$ for each of the next 35 years, and save $45\\%$ of that amount. Second, payments are annual and the first payment is one year from today. Third, interst rates will be $2\\%$ per year forever."
   ]
  },
  {
   "cell_type": "code",
   "execution_count": 40,
   "id": "13026cd5",
   "metadata": {},
   "outputs": [],
   "source": [
    "pmt = 100000\n",
    "perc = 0.45\n",
    "r = 0.02\n",
    "t = 35"
   ]
  },
  {
   "cell_type": "markdown",
   "id": "5f2537f5",
   "metadata": {},
   "source": [
    "#### (a) Compute how much money you will have saved at the end of 35th year."
   ]
  },
  {
   "cell_type": "markdown",
   "id": "4c68ed9d",
   "metadata": {},
   "source": [
    "**Annual Savings:** \\\n",
    "The amount saved each year is: $$100,000 \\times 45\\% = \\$45,000$$\n",
    "\n",
    "**Future Value of Annuity:**\n",
    "\n",
    "I save this amount into saving account each year, earning $2\\%$ interest. This is an annuity with payment of $\\$45,000$ for 35 periods.\n",
    "\n",
    "This will give me $$FV = P \\times \\left(\\frac{(1+r)^n-1}{r}\\right) $$ \n",
    "\n",
    "At the end of 35th year, I will have\n",
    "\n",
    "$$FV = 45,000\\times \\left(\\frac{(1.02)^{35}-1}{0.02}\\right) = \\$2,249,751.49$$"
   ]
  },
  {
   "cell_type": "code",
   "execution_count": 41,
   "id": "530ce1d1",
   "metadata": {},
   "outputs": [
    {
     "name": "stdout",
     "output_type": "stream",
     "text": [
      "I will have saved $2249751.49 at the end of 35th year\n"
     ]
    }
   ],
   "source": [
    "def get_FV(pmt, percent, r, t):\n",
    "    saving = pmt*percent\n",
    "    FV = saving*((1+r)**(t)-1)/r\n",
    "    return FV\n",
    "\n",
    "FV = get_FV(pmt, perc, r, t)\n",
    "print(f'I will have saved ${FV:.2f} at the end of 35th year') "
   ]
  },
  {
   "cell_type": "markdown",
   "id": "c0f66872",
   "metadata": {},
   "source": [
    "#### (b) What is the amount you can consume during each of your retirement years? \n",
    "Assume that there are 20 retirement years and that consumption takes place at the end of each year."
   ]
  },
  {
   "cell_type": "markdown",
   "id": "4bc8ceef",
   "metadata": {},
   "source": [
    "The amount I saved need to be used for next 20 years.\n",
    "$$PMT = FV \\times \\frac{r}{1-(1+r)^{-n}} = FV \\times \\frac{0.02}{1-(1.02)^{-20}} = \\$ 137587.42$$"
   ]
  },
  {
   "cell_type": "code",
   "execution_count": 42,
   "id": "7a2b919d",
   "metadata": {},
   "outputs": [
    {
     "name": "stdout",
     "output_type": "stream",
     "text": [
      "I can consume $137587.42 during each of the retirement years\n"
     ]
    }
   ],
   "source": [
    "n = 20 # retirement years\n",
    "pmt = FV * r/(1-(1+r)**(-n))\n",
    "print(f'I can consume ${pmt:.2f} during each of the retirement years')"
   ]
  },
  {
   "cell_type": "markdown",
   "id": "774a0ce4",
   "metadata": {},
   "source": [
    "## Problem 3"
   ]
  },
  {
   "cell_type": "markdown",
   "id": "684f0072",
   "metadata": {},
   "source": [
    "You are considering buying a two-bedroom townhouse for $\\$700,000$. You plan to make a $\\$200,000$ down payment and take a $\\$500,000$ 30-year mortgage for the rest. The interest rate on the mortgage is $3\\%$ APR for monthly payments."
   ]
  },
  {
   "cell_type": "markdown",
   "id": "2962a136",
   "metadata": {},
   "source": [
    "#### (a) What is the effective annual rate?"
   ]
  },
  {
   "cell_type": "markdown",
   "id": "f60aeee4",
   "metadata": {},
   "source": [
    "$$(1+ \\frac{0.03}{12})^{12} = 3.0416\\%$$"
   ]
  },
  {
   "cell_type": "code",
   "execution_count": 48,
   "id": "127ddae6",
   "metadata": {},
   "outputs": [
    {
     "name": "stdout",
     "output_type": "stream",
     "text": [
      "Effective Annual Rate (EAR) = 3.0416%\n"
     ]
    }
   ],
   "source": [
    "def effective_annual_rate(APR, n):\n",
    "    return (1 + APR/n)**n - 1\n",
    "\n",
    "APR = 0.03\n",
    "n = 12\n",
    "\n",
    "EAR = effective_annual_rate(APR, n)\n",
    "print(f'Effective Annual Rate (EAR) = {EAR*100:.4f}%')"
   ]
  },
  {
   "cell_type": "markdown",
   "id": "fa60faf9",
   "metadata": {},
   "source": [
    "#### (b) What is the monthly payment?"
   ]
  },
  {
   "cell_type": "markdown",
   "id": "aba3d87f",
   "metadata": {},
   "source": [
    "The monthly payment calculated from total of principal and interest payments\n",
    "\n",
    "$$M = \\frac{P\\times r(1+r)^n}{(1+r)^n-1} = \\frac{500000 \\times (\\frac{0.03}{12}) \\times (1+\\frac{0.03}{12})^{360}}{(1+\\frac{0.03}{12})^{360}-1}= \\$2108.02$$"
   ]
  },
  {
   "cell_type": "markdown",
   "id": "97230d86",
   "metadata": {},
   "source": [
    "**In Python, we can use built-in function** `npf.pmt` **to get the payment** \\\n",
    "**Below are the codes used to calculate**"
   ]
  },
  {
   "cell_type": "code",
   "execution_count": 72,
   "id": "85ca26a1",
   "metadata": {},
   "outputs": [
    {
     "name": "stdout",
     "output_type": "stream",
     "text": [
      "Monthly payment (M) = $2108.02\n"
     ]
    }
   ],
   "source": [
    "P = 500000  # Principal loan amount\n",
    "r = APR / 12  # Monthly interest rate\n",
    "n = 30 * 12  # Total number of monthly payments\n",
    "\n",
    "M = npf.pmt(r, n, P)\n",
    "print(f'Monthly payment (M) = ${-M:.2f}')  \n",
    "# Using a negative sign to display as a positive value since npf.pmt returns a negative value as cost of payment"
   ]
  },
  {
   "cell_type": "markdown",
   "id": "de42d75a",
   "metadata": {},
   "source": [
    "#### (c) How much do you owe the bank immediately after the twentieth monthly payment?"
   ]
  },
  {
   "cell_type": "code",
   "execution_count": 79,
   "id": "ad7cc6f7",
   "metadata": {
    "scrolled": false
   },
   "outputs": [
    {
     "data": {
      "text/html": [
       "<div>\n",
       "<style scoped>\n",
       "    .dataframe tbody tr th:only-of-type {\n",
       "        vertical-align: middle;\n",
       "    }\n",
       "\n",
       "    .dataframe tbody tr th {\n",
       "        vertical-align: top;\n",
       "    }\n",
       "\n",
       "    .dataframe thead th {\n",
       "        text-align: right;\n",
       "    }\n",
       "</style>\n",
       "<table border=\"1\" class=\"dataframe\">\n",
       "  <thead>\n",
       "    <tr style=\"text-align: right;\">\n",
       "      <th></th>\n",
       "      <th>month</th>\n",
       "      <th>total_payment</th>\n",
       "      <th>interest_payment</th>\n",
       "      <th>principal_payment</th>\n",
       "      <th>amount_left</th>\n",
       "    </tr>\n",
       "  </thead>\n",
       "  <tbody>\n",
       "    <tr>\n",
       "      <th>0</th>\n",
       "      <td>1.0</td>\n",
       "      <td>2108.020169</td>\n",
       "      <td>1250.000000</td>\n",
       "      <td>858.020169</td>\n",
       "      <td>499141.979831</td>\n",
       "    </tr>\n",
       "    <tr>\n",
       "      <th>1</th>\n",
       "      <td>2.0</td>\n",
       "      <td>2108.020169</td>\n",
       "      <td>1247.854950</td>\n",
       "      <td>860.165219</td>\n",
       "      <td>498281.814612</td>\n",
       "    </tr>\n",
       "    <tr>\n",
       "      <th>2</th>\n",
       "      <td>3.0</td>\n",
       "      <td>2108.020169</td>\n",
       "      <td>1245.704537</td>\n",
       "      <td>862.315632</td>\n",
       "      <td>497419.498980</td>\n",
       "    </tr>\n",
       "    <tr>\n",
       "      <th>3</th>\n",
       "      <td>4.0</td>\n",
       "      <td>2108.020169</td>\n",
       "      <td>1243.548747</td>\n",
       "      <td>864.471421</td>\n",
       "      <td>496555.027559</td>\n",
       "    </tr>\n",
       "    <tr>\n",
       "      <th>4</th>\n",
       "      <td>5.0</td>\n",
       "      <td>2108.020169</td>\n",
       "      <td>1241.387569</td>\n",
       "      <td>866.632600</td>\n",
       "      <td>495688.394959</td>\n",
       "    </tr>\n",
       "    <tr>\n",
       "      <th>5</th>\n",
       "      <td>6.0</td>\n",
       "      <td>2108.020169</td>\n",
       "      <td>1239.220987</td>\n",
       "      <td>868.799181</td>\n",
       "      <td>494819.595778</td>\n",
       "    </tr>\n",
       "    <tr>\n",
       "      <th>6</th>\n",
       "      <td>7.0</td>\n",
       "      <td>2108.020169</td>\n",
       "      <td>1237.048989</td>\n",
       "      <td>870.971179</td>\n",
       "      <td>493948.624599</td>\n",
       "    </tr>\n",
       "    <tr>\n",
       "      <th>7</th>\n",
       "      <td>8.0</td>\n",
       "      <td>2108.020169</td>\n",
       "      <td>1234.871561</td>\n",
       "      <td>873.148607</td>\n",
       "      <td>493075.475992</td>\n",
       "    </tr>\n",
       "    <tr>\n",
       "      <th>8</th>\n",
       "      <td>9.0</td>\n",
       "      <td>2108.020169</td>\n",
       "      <td>1232.688690</td>\n",
       "      <td>875.331479</td>\n",
       "      <td>492200.144513</td>\n",
       "    </tr>\n",
       "    <tr>\n",
       "      <th>9</th>\n",
       "      <td>10.0</td>\n",
       "      <td>2108.020169</td>\n",
       "      <td>1230.500361</td>\n",
       "      <td>877.519807</td>\n",
       "      <td>491322.624706</td>\n",
       "    </tr>\n",
       "    <tr>\n",
       "      <th>10</th>\n",
       "      <td>11.0</td>\n",
       "      <td>2108.020169</td>\n",
       "      <td>1228.306562</td>\n",
       "      <td>879.713607</td>\n",
       "      <td>490442.911099</td>\n",
       "    </tr>\n",
       "    <tr>\n",
       "      <th>11</th>\n",
       "      <td>12.0</td>\n",
       "      <td>2108.020169</td>\n",
       "      <td>1226.107278</td>\n",
       "      <td>881.912891</td>\n",
       "      <td>489560.998208</td>\n",
       "    </tr>\n",
       "    <tr>\n",
       "      <th>12</th>\n",
       "      <td>13.0</td>\n",
       "      <td>2108.020169</td>\n",
       "      <td>1223.902496</td>\n",
       "      <td>884.117673</td>\n",
       "      <td>488676.880535</td>\n",
       "    </tr>\n",
       "    <tr>\n",
       "      <th>13</th>\n",
       "      <td>14.0</td>\n",
       "      <td>2108.020169</td>\n",
       "      <td>1221.692201</td>\n",
       "      <td>886.327967</td>\n",
       "      <td>487790.552567</td>\n",
       "    </tr>\n",
       "    <tr>\n",
       "      <th>14</th>\n",
       "      <td>15.0</td>\n",
       "      <td>2108.020169</td>\n",
       "      <td>1219.476381</td>\n",
       "      <td>888.543787</td>\n",
       "      <td>486902.008780</td>\n",
       "    </tr>\n",
       "    <tr>\n",
       "      <th>15</th>\n",
       "      <td>16.0</td>\n",
       "      <td>2108.020169</td>\n",
       "      <td>1217.255022</td>\n",
       "      <td>890.765147</td>\n",
       "      <td>486011.243633</td>\n",
       "    </tr>\n",
       "    <tr>\n",
       "      <th>16</th>\n",
       "      <td>17.0</td>\n",
       "      <td>2108.020169</td>\n",
       "      <td>1215.028109</td>\n",
       "      <td>892.992060</td>\n",
       "      <td>485118.251574</td>\n",
       "    </tr>\n",
       "    <tr>\n",
       "      <th>17</th>\n",
       "      <td>18.0</td>\n",
       "      <td>2108.020169</td>\n",
       "      <td>1212.795629</td>\n",
       "      <td>895.224540</td>\n",
       "      <td>484223.027034</td>\n",
       "    </tr>\n",
       "    <tr>\n",
       "      <th>18</th>\n",
       "      <td>19.0</td>\n",
       "      <td>2108.020169</td>\n",
       "      <td>1210.557568</td>\n",
       "      <td>897.462601</td>\n",
       "      <td>483325.564433</td>\n",
       "    </tr>\n",
       "    <tr>\n",
       "      <th>19</th>\n",
       "      <td>20.0</td>\n",
       "      <td>2108.020169</td>\n",
       "      <td>1208.313911</td>\n",
       "      <td>899.706258</td>\n",
       "      <td>482425.858176</td>\n",
       "    </tr>\n",
       "  </tbody>\n",
       "</table>\n",
       "</div>"
      ],
      "text/plain": [
       "    month  total_payment  interest_payment  principal_payment    amount_left\n",
       "0     1.0    2108.020169       1250.000000         858.020169  499141.979831\n",
       "1     2.0    2108.020169       1247.854950         860.165219  498281.814612\n",
       "2     3.0    2108.020169       1245.704537         862.315632  497419.498980\n",
       "3     4.0    2108.020169       1243.548747         864.471421  496555.027559\n",
       "4     5.0    2108.020169       1241.387569         866.632600  495688.394959\n",
       "5     6.0    2108.020169       1239.220987         868.799181  494819.595778\n",
       "6     7.0    2108.020169       1237.048989         870.971179  493948.624599\n",
       "7     8.0    2108.020169       1234.871561         873.148607  493075.475992\n",
       "8     9.0    2108.020169       1232.688690         875.331479  492200.144513\n",
       "9    10.0    2108.020169       1230.500361         877.519807  491322.624706\n",
       "10   11.0    2108.020169       1228.306562         879.713607  490442.911099\n",
       "11   12.0    2108.020169       1226.107278         881.912891  489560.998208\n",
       "12   13.0    2108.020169       1223.902496         884.117673  488676.880535\n",
       "13   14.0    2108.020169       1221.692201         886.327967  487790.552567\n",
       "14   15.0    2108.020169       1219.476381         888.543787  486902.008780\n",
       "15   16.0    2108.020169       1217.255022         890.765147  486011.243633\n",
       "16   17.0    2108.020169       1215.028109         892.992060  485118.251574\n",
       "17   18.0    2108.020169       1212.795629         895.224540  484223.027034\n",
       "18   19.0    2108.020169       1210.557568         897.462601  483325.564433\n",
       "19   20.0    2108.020169       1208.313911         899.706258  482425.858176"
      ]
     },
     "execution_count": 79,
     "metadata": {},
     "output_type": "execute_result"
    }
   ],
   "source": [
    "payments = pd.DataFrame(columns=['month', 'total_payment', 'interest_payment', 'principal_payment', 'amount_left'])\n",
    "n = 20 #20 payments made\n",
    "\n",
    "for t in range(n):\n",
    "    payments = payments.append({'month': t+1, 'total_payment': -M}, ignore_index=True)\n",
    "    \n",
    "for t in range(n):\n",
    "    payments.iloc[int(t), 2] = P*r\n",
    "    payments.iloc[int(t), 3] = -M - P*r\n",
    "    P = P - (-M - P*r)\n",
    "    payments.iloc[int(t), 4] = P\n",
    "\n",
    "payments"
   ]
  },
  {
   "cell_type": "markdown",
   "id": "2a5da073",
   "metadata": {},
   "source": [
    "Above is the table that calculate the amount left by monthes, or we can use below formula to get the remaining balance."
   ]
  },
  {
   "cell_type": "code",
   "execution_count": 51,
   "id": "f1457460",
   "metadata": {},
   "outputs": [
    {
     "name": "stdout",
     "output_type": "stream",
     "text": [
      "Remaining balance after 20 payments (B) = $482425.86\n"
     ]
    }
   ],
   "source": [
    "t = 20  # Number of payments made\n",
    "n = 30 * 12  # Total number of monthly payments\n",
    "B = M * (1 - (1 + r)**-(n-t))/r\n",
    "print(f'Remaining balance after 20 payments (B) = ${-B:.2f}')"
   ]
  },
  {
   "cell_type": "markdown",
   "id": "69a8724d",
   "metadata": {},
   "source": [
    "## Problem 4"
   ]
  },
  {
   "cell_type": "markdown",
   "id": "76493365",
   "metadata": {},
   "source": [
    "Assume the spots rates are as follows:\n",
    "\n",
    "$$s_1 = 2.0\\%$$$$s_2 = 2.5\\%$$$$s_3 = 3.0\\%$$$$s_4 = 3.5\\%$$\n",
    "\n",
    "Spot rates are with annual compounding, coupon payments are annual, and par values are $\\$100$.\\\n",
    "Compute the prices of the following bonds:"
   ]
  },
  {
   "cell_type": "code",
   "execution_count": 21,
   "id": "2b938526",
   "metadata": {},
   "outputs": [],
   "source": [
    "spot_rate = [0.02, 0.025, 0.03, 0.035]\n",
    "par = 100"
   ]
  },
  {
   "cell_type": "markdown",
   "id": "a4e7ec4c",
   "metadata": {},
   "source": [
    "#### (a) A zero-coupon bond with 3 years to maturity."
   ]
  },
  {
   "cell_type": "markdown",
   "id": "5e2a1202",
   "metadata": {},
   "source": [
    "$$P_1 = \\frac{100}{1.03^3} = \\$ 91.51$$"
   ]
  },
  {
   "cell_type": "markdown",
   "id": "1b69bdac",
   "metadata": {},
   "source": [
    "**Below are the codes used to calculate**"
   ]
  },
  {
   "cell_type": "code",
   "execution_count": 22,
   "id": "1267394d",
   "metadata": {},
   "outputs": [
    {
     "name": "stdout",
     "output_type": "stream",
     "text": [
      "The price for a 3 years zero-coupon bond is : $91.51\n"
     ]
    }
   ],
   "source": [
    "t = 3\n",
    "price = par/(1+spot_rate[t-1])**t\n",
    "print(f'The price for a 3 years zero-coupon bond is : ${price:.2f}')"
   ]
  },
  {
   "cell_type": "markdown",
   "id": "7c674f41",
   "metadata": {},
   "source": [
    "#### (b) A bond with coupon rate $1\\%$ and two years to maturity."
   ]
  },
  {
   "cell_type": "markdown",
   "id": "637607c3",
   "metadata": {},
   "source": [
    "$$P_2 = \\frac{1}{1.02} + \\frac{101}{1.025^2} = \\$97.11$$"
   ]
  },
  {
   "cell_type": "markdown",
   "id": "d68cc4b0",
   "metadata": {},
   "source": [
    "**Below are the codes used to calculate**"
   ]
  },
  {
   "cell_type": "code",
   "execution_count": 23,
   "id": "018b5a38",
   "metadata": {},
   "outputs": [
    {
     "name": "stdout",
     "output_type": "stream",
     "text": [
      "The price for a 2 years 1% coupon bond is : $97.11\n"
     ]
    }
   ],
   "source": [
    "c = 1\n",
    "t = 2\n",
    "price = sum(c/(1+spot_rate[t-1])**t for t in range(1, t+1)) + par/(1+spot_rate[t-1])**t\n",
    "print(f'The price for a 2 years 1% coupon bond is : ${price:.2f}')"
   ]
  },
  {
   "cell_type": "markdown",
   "id": "2aaed55c",
   "metadata": {},
   "source": [
    "#### (c) A bond with coupon rate $13\\%$ and four years to maturity."
   ]
  },
  {
   "cell_type": "markdown",
   "id": "30903598",
   "metadata": {},
   "source": [
    "$$P_3 = \\frac{13}{1.02} + \\frac{13}{1.025^2} + \\frac{13}{1.03^3} + \\frac{113}{1.035^4} = \\$135.49$$"
   ]
  },
  {
   "cell_type": "markdown",
   "id": "1fa24d68",
   "metadata": {},
   "source": [
    "**Below are the codes used to calculate**"
   ]
  },
  {
   "cell_type": "code",
   "execution_count": 24,
   "id": "0a8fdf64",
   "metadata": {},
   "outputs": [
    {
     "name": "stdout",
     "output_type": "stream",
     "text": [
      "The price for a 4 years 13% coupon bond is : $135.49\n"
     ]
    }
   ],
   "source": [
    "c = 13\n",
    "t = 4\n",
    "price = sum(c/(1+spot_rate[t-1])**t for t in range(1, t+1)) + par/(1+spot_rate[t-1])**t\n",
    "print(f'The price for a 4 years 13% coupon bond is : ${price:.2f}')"
   ]
  },
  {
   "cell_type": "markdown",
   "id": "83e81ea0",
   "metadata": {},
   "source": [
    "## Problem 5"
   ]
  },
  {
   "cell_type": "markdown",
   "id": "a8368ede",
   "metadata": {},
   "source": [
    "You observe prices for the following bonds:\\\n",
    "Bond X: coupon rate = $3\\%$, maturity in 6 months, Price in $\\$98.98$ \\\n",
    "Bond Y: coupon rate = $4\\%$, maturity in 12 months, Price in $\\$98.59$ "
   ]
  },
  {
   "cell_type": "markdown",
   "id": "0e90febe",
   "metadata": {},
   "source": [
    "Coupon payments are semi-annual. \\\n",
    "Determine the 6-month and 1-year spot rates, both expressed as APRs with semi-annual compounding."
   ]
  },
  {
   "cell_type": "markdown",
   "id": "cc59bb48",
   "metadata": {},
   "source": [
    "For Bond X\n",
    "$$98.98 = \\frac{101.5}{1+r_{0.5}}$$\n",
    "$$r_{0.5} = \\frac{101.5}{98.98}-1 = 0.02546$$\n",
    "\n",
    "Express spot rate as APR with semi-annual compounding\n",
    "$$APR_{0.5} = r \\times 2 = 5.092\\%$$"
   ]
  },
  {
   "cell_type": "markdown",
   "id": "2809a25a",
   "metadata": {},
   "source": [
    "For Bond Y\n",
    "$$98.59 = \\frac{2}{1+r_{0.5}} + \\frac{102}{(1+r_1)^2}$$\n",
    "\n",
    "$$98.59 = \\frac{2}{1+0.02546} + \\frac{102}{(1+r_1)^2}$$\n",
    "\n",
    "$$r_1 = 0.0274$$\n",
    "\n",
    "Express spot rate as APR with semi-annual compounding\n",
    "$$APR_{1} = r \\times 2 = 5.472\\%$$"
   ]
  },
  {
   "cell_type": "markdown",
   "id": "32b73708",
   "metadata": {},
   "source": [
    "**Below are the codes used to calculate**"
   ]
  },
  {
   "cell_type": "code",
   "execution_count": 2,
   "id": "382e5afc",
   "metadata": {},
   "outputs": [
    {
     "name": "stdout",
     "output_type": "stream",
     "text": [
      "The 2 required spot rates expressed as APRs are : 5.09193776520509 and 5.471880532776252\n"
     ]
    }
   ],
   "source": [
    "import numpy as np\n",
    "def spot_rate(pv,fv,coupon,period): #function to calculate spot rates\n",
    "\n",
    "    if period == 1 : #if period is 1, discount the fv + coupon that we would get in 6 months\n",
    "        r1 = ((fv + coupon)/pv) - 1\n",
    "        spot_rates.append(r1)\n",
    "    \n",
    "    if period == 2 : #if period is 2, discount the coupon that we get in 6 months as well as discount \n",
    "                        #the fv + coupon that we get in 1 year\n",
    "            r2 = np.sqrt((fv + coupon)/(pv - (coupon/(1+ spot_rates[0])))) - 1\n",
    "            spot_rates.append(r2)\n",
    "            \n",
    "    return np.array(spot_rates) * 2 * 100\n",
    "\n",
    "spot_rates = [] #create an empty list to store the spot rates\n",
    "spot_rate(98.98,100,3/2,1) #function call for bond X\n",
    "spot_rate(98.59,100,4/2,2) #function call for bond Y\n",
    "\n",
    "print(f'The 2 required spot rates expressed as APRs are : {np.array(spot_rates[0]) * 2 * 100} and {np.array(spot_rates[1]) * 2 * 100}')\n",
    "\n"
   ]
  },
  {
   "cell_type": "markdown",
   "id": "e5bdc46d",
   "metadata": {},
   "source": [
    "## Problem 6"
   ]
  },
  {
   "cell_type": "markdown",
   "id": "a1447c7b",
   "metadata": {},
   "source": [
    "You are holding a 3-year bond with coupon rate of $5\\%$. Coupon payments are annual and par values are $\\$100$. Spot rates are: $r_1 = 5\\%$, $r_2 = 6\\%$, $r_3 = 7\\%$."
   ]
  },
  {
   "cell_type": "markdown",
   "id": "426a1b0a",
   "metadata": {},
   "source": [
    "#### (a) Determine the bond's price and yield-to-maturity"
   ]
  },
  {
   "cell_type": "markdown",
   "id": "1448df77",
   "metadata": {},
   "source": [
    "$$P = \\frac{5}{1.05} + \\frac{5}{1.06^2} +\\frac{105}{1.07^3} = \\$94.92$$"
   ]
  },
  {
   "cell_type": "markdown",
   "id": "38705e7b",
   "metadata": {},
   "source": [
    "Plug P into the formula:\n",
    "$$94.92 = \\frac{5}{1+y} + \\frac{5}{(1+y)^2} +\\frac{105}{(1+y)^3}$$\n",
    "\n",
    "Using finance calculator,\n",
    "$$y = 6.93\\%$$"
   ]
  },
  {
   "cell_type": "markdown",
   "id": "4c39edef",
   "metadata": {},
   "source": [
    "**Below are the codes used to calculate**"
   ]
  },
  {
   "cell_type": "code",
   "execution_count": 54,
   "id": "eba79886",
   "metadata": {},
   "outputs": [
    {
     "name": "stdout",
     "output_type": "stream",
     "text": [
      "Price of the bond is 94.92316403551541\n",
      "The YTM of the bond is : 6.932138733219806\n"
     ]
    }
   ],
   "source": [
    "#imported the library to calculate IRR\n",
    "#calculated the discount factors assiocated with each spot rate\n",
    "d1 = 1/(1.05)\n",
    "d2 = 1/(1.06**2)\n",
    "d3 = 1/(1.07**3)\n",
    "\n",
    "par_value = 100\n",
    "coupon_rate = 5\n",
    "coupon_dollar = coupon_rate/100 * par_value\n",
    "\n",
    "#discounted the coupons and the par value to get price of the bond\n",
    "price = (coupon_dollar*d1) + (coupon_dollar*d2) + ((par_value + coupon_dollar)*d3)\n",
    "print (f'Price of the bond is {price}')\n",
    "\n",
    "#used the built in library to calculate ytm of the bond\n",
    "x = np.array([-price,coupon_dollar, coupon_dollar, (par_value + coupon_dollar)])\n",
    "print(f'The YTM of the bond is : {npf.irr(x)*100}')"
   ]
  },
  {
   "cell_type": "markdown",
   "id": "86fc4302",
   "metadata": {},
   "source": [
    "#### (b) Determine as many forward rates as you can, based on the spot rates above"
   ]
  },
  {
   "cell_type": "markdown",
   "id": "d9539903",
   "metadata": {},
   "source": [
    "$$f_{0,1} = r_1 = 5\\%$$\n",
    "\n",
    "$$f_{1,2} = \\frac{(1+r_2)^2}{1+r_1} -1 = 7.0095\\%$$\n",
    "\n",
    "$$f_{2,3} = \\frac{(1+r_3)^3}{(1+r_2)^2} -1 = 9.0284\\%$$\n",
    "\n",
    "$$f_{0,2} = r_2 = 6\\%$$\n",
    "\n",
    "$$f_{1,3} = \\sqrt{\\frac{(1+r_3)^3}{1+r_1}} -1= 8.01424\\%$$\n",
    "\n",
    "$$f_{0,3} = r_3 = 7\\%$$"
   ]
  },
  {
   "cell_type": "markdown",
   "id": "931c82a2",
   "metadata": {},
   "source": [
    "**Below are the codes used to calculate**"
   ]
  },
  {
   "cell_type": "code",
   "execution_count": 55,
   "id": "e534d088",
   "metadata": {},
   "outputs": [
    {
     "name": "stdout",
     "output_type": "stream",
     "text": [
      "The forward rate between year 0 and 1 is 5 %\n",
      "The forward rate between year 1 and 2 is 7.009523809523821 %\n",
      "The forward rate between year 1 and 3 is 8.014240683699626 %\n",
      "The forward rate between year 0 and 2 is 6 %\n",
      "The forward rate between year 2 and 3 is 9.028390886436455 %\n",
      "The forward rate between year 0 and 3 is 7 %\n"
     ]
    }
   ],
   "source": [
    "#calculate forward rates using the given spot rates\n",
    "f12 = (1.06**2)/(1.05) - 1\n",
    "f13 = np.sqrt((1.07**3)/1.05) - 1\n",
    "f23 = (1.07**3)/(1.06**2) - 1\n",
    "\n",
    "print(f'The forward rate between year 0 and 1 is {5} %')\n",
    "print(f'The forward rate between year 1 and 2 is {f12*100} %') \n",
    "print(f'The forward rate between year 1 and 3 is {f13*100} %')\n",
    "print(f'The forward rate between year 0 and 2 is {6} %')\n",
    "print(f'The forward rate between year 2 and 3 is {f23*100} %')\n",
    "print(f'The forward rate between year 0 and 3 is {7} %')"
   ]
  },
  {
   "cell_type": "markdown",
   "id": "fff068c7",
   "metadata": {},
   "source": [
    "#### (c) You would like to get a guaranteed 3-year return on your coupon bond. Explain how this can be achieved using forward rates. "
   ]
  },
  {
   "cell_type": "markdown",
   "id": "a250245f",
   "metadata": {},
   "source": [
    "To achieve a guaranteed 3-year return, we need to **reinvest the coupons at the forward rate**. \\\n",
    "We need to **invest first year coupon at a forward rate $f_{1,3}$ for 2 years, and the 2nd year coupon at a forward rate $f_{2,3}$ for 1 year.**"
   ]
  },
  {
   "cell_type": "code",
   "execution_count": 56,
   "id": "fcae6c30",
   "metadata": {},
   "outputs": [
    {
     "name": "stdout",
     "output_type": "stream",
     "text": [
      "The guaranteed return is 7.000000000000006%\n"
     ]
    }
   ],
   "source": [
    "reinvested_coupons = coupon_dollar * ((1 + f13)**2) + coupon_dollar * (1 + f23)\n",
    "future_guar_value = reinvested_coupons + 100 + coupon_dollar\n",
    "guar_ret = (future_guar_value/price)**(1/3) - 1\n",
    "print(f'The guaranteed return is {guar_ret * 100}%')"
   ]
  }
 ],
 "metadata": {
  "kernelspec": {
   "display_name": "Python 3",
   "language": "python",
   "name": "python3"
  },
  "language_info": {
   "codemirror_mode": {
    "name": "ipython",
    "version": 3
   },
   "file_extension": ".py",
   "mimetype": "text/x-python",
   "name": "python",
   "nbconvert_exporter": "python",
   "pygments_lexer": "ipython3",
   "version": "3.8.8"
  }
 },
 "nbformat": 4,
 "nbformat_minor": 5
}
